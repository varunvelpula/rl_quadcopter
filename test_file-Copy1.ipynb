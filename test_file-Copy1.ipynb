{
 "cells": [
  {
   "cell_type": "code",
   "execution_count": null,
   "metadata": {},
   "outputs": [],
   "source": [
    "import sim\n",
    "import sys\n",
    "import torch\n",
    "import numpy as np\n",
    "import random\n",
    "import gym\n",
    "import custom_gym"
   ]
  },
  {
   "cell_type": "code",
   "execution_count": null,
   "metadata": {},
   "outputs": [],
   "source": [
    "def epsilon_greedy_action(q_values, state, epsilon):\n",
    "    \"\"\"\n",
    "    Implements an epsilon-greedy action selection.\n",
    "    \n",
    "    Args:\n",
    "      q_values (Tensor): Tensor representing the predicted q_values for each action (matrix form)\n",
    "      epsilon  (Float):  Float from 0-1 representing the probability of selecting a random action, instead of the optimal\n",
    "      \n",
    "    \"\"\"\n",
    "    prob = random.random()\n",
    "    if prob < epsilon:\n",
    "        return np.argmax(q_values[state[0],state[1],state[2]])\n",
    "    else:\n",
    "        return np.random.randint(7)"
   ]
  },
  {
   "cell_type": "code",
   "execution_count": null,
   "metadata": {},
   "outputs": [],
   "source": [
    "''' \n",
    "    Q learning implementation\n",
    "'''\n",
    "env = gym.make('RLQuad-v0')  # look into the name of the library\n",
    "state_size = (5,5,10)\n",
    "q_values_size = (5,5,10,7) # (state size, action size)\n",
    "q_values = np.zeros(q_values_size)\n",
    "reward = np.full(state_size, -1)\n",
    "final_target = [0,0,0.2]\n",
    "gamma = 0.9\n",
    "threshold = 0.01\n",
    "learning_rate = 0.8\n",
    "env.reset()\n",
    "\n",
    "min_eps = 0.01\n",
    "\n",
    "decay_constant = 100"
   ]
  },
  {
   "cell_type": "code",
   "execution_count": null,
   "metadata": {},
   "outputs": [],
   "source": [
    "# env.step(4)\n",
    "# env.step(4)\n",
    "# env.step(4)\n",
    "# env.step(4)\n",
    "# env.step(0)\n",
    "    \n",
    "# for i in range(5):\n",
    "#     state = env.step(4)\n",
    "#     print(state)"
   ]
  },
  {
   "cell_type": "code",
   "execution_count": null,
   "metadata": {
    "scrolled": false
   },
   "outputs": [],
   "source": [
    "import pdb\n",
    "pdb.set_trace()\n",
    "for i in range(100):\n",
    "    print(i)\n",
    "    slope = (min_eps - 1.0) / decay_constant\n",
    "    epsilon = 1 - max(slope * i + 1.0, min_eps)\n",
    "    state = env.reset()\n",
    "    done = False\n",
    "    steps = 0\n",
    "    while not done:\n",
    "        if steps>100:\n",
    "            break\n",
    "        action = epsilon_greedy_action(q_values, state, epsilon = 0.1)\n",
    "#         if action==6:\n",
    "#             steps = steps+1\n",
    "#             continue\n",
    "#         action = 6\n",
    "        next_state, reward, done, _ = env.step(action)\n",
    "        td_target = reward + gamma * np.max(q_values[next_state[0],next_state[1],next_state[2]])\n",
    "        td_error = td_target - q_values[state[0],state[1],state[2],action]\n",
    "        q_values[state[0],state[1],state[2],action] += learning_rate * td_error\n",
    "        # Update state\n",
    "        state = next_state\n",
    "        steps+=1\n",
    "        print(steps)\n",
    "        print(done)\n",
    "        print()"
   ]
  },
  {
   "cell_type": "code",
   "execution_count": null,
   "metadata": {},
   "outputs": [],
   "source": [
    "q_values"
   ]
  },
  {
   "cell_type": "code",
   "execution_count": null,
   "metadata": {},
   "outputs": [],
   "source": [
    "import sim\n",
    "clientID=sim.simxStart('127.0.0.1',19997,True,True,5000,5)"
   ]
  },
  {
   "cell_type": "code",
   "execution_count": null,
   "metadata": {},
   "outputs": [],
   "source": [
    "# sim.simxStartSimulation(clientID,sim.simx_opmode_oneshot_wait)\n",
    "clientID\n",
    "# sim.simxStopSimulation(clientID,sim.simx_opmode_oneshot)"
   ]
  },
  {
   "cell_type": "code",
   "execution_count": null,
   "metadata": {},
   "outputs": [],
   "source": [
    "sim.simxSetIntegerSignal(clientID,'actuateGripperSignal',1,sim.simx_opmode_oneshot)"
   ]
  },
  {
   "cell_type": "code",
   "execution_count": null,
   "metadata": {},
   "outputs": [],
   "source": [
    "moves = {  # moves of the quadcopter defined interms of the grid coordinates\n",
    "        0: (1,0,0),\n",
    "        1: (-1,0,0),\n",
    "        2: (0,1,0),\n",
    "        3: (0,-1,0),\n",
    "        4: (0,0,1),\n",
    "        5: (0,0,-1),\n",
    "      }"
   ]
  },
  {
   "cell_type": "code",
   "execution_count": null,
   "metadata": {},
   "outputs": [],
   "source": [
    "x,y,z = moves[0]"
   ]
  },
  {
   "cell_type": "code",
   "execution_count": null,
   "metadata": {},
   "outputs": [],
   "source": [
    "z"
   ]
  },
  {
   "cell_type": "code",
   "execution_count": null,
   "metadata": {},
   "outputs": [],
   "source": []
  }
 ],
 "metadata": {
  "kernelspec": {
   "display_name": "Python 3",
   "language": "python",
   "name": "python3"
  },
  "language_info": {
   "codemirror_mode": {
    "name": "ipython",
    "version": 3
   },
   "file_extension": ".py",
   "mimetype": "text/x-python",
   "name": "python",
   "nbconvert_exporter": "python",
   "pygments_lexer": "ipython3",
   "version": "3.8.3"
  }
 },
 "nbformat": 4,
 "nbformat_minor": 4
}
